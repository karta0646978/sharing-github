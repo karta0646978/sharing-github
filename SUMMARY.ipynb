{
 "cells": [
  {
   "cell_type": "markdown",
   "metadata": {},
   "source": [
    "# SUMMARY"
   ]
  },
  {
   "cell_type": "code",
   "execution_count": 740,
   "metadata": {},
   "outputs": [],
   "source": [
    "from sklearn import preprocessing \n",
    "from sklearn.model_selection import GridSearchCV \n",
    "from sklearn.ensemble import RandomForestClassifier \n",
    "from sklearn.ensemble import RandomForestRegressor\n",
    "\n",
    "#Import some extention libraries \n",
    "%matplotlib inline \n",
    "import warnings\n",
    "import matplotlib.pyplot as plt \n",
    "import seaborn as sns \n",
    "import numpy as np\n",
    "import pandas as pd \n",
    "import os\n",
    "import glob\n",
    "import xlrd\n",
    "plt.style.use('ggplot')\n",
    "pd.options.mode.chained_assignment = None"
   ]
  },
  {
   "cell_type": "code",
   "execution_count": 743,
   "metadata": {},
   "outputs": [],
   "source": [
    "path = r'/Users/dong/Desktop/lwh'\n",
    "dirlist = []\n",
    "for dirpath,dirname,filename in os.walk(path):\n",
    "    for i in filename:\n",
    "        dirlist.append(os.path.join(dirpath,i))"
   ]
  },
  {
   "cell_type": "code",
   "execution_count": 744,
   "metadata": {
    "scrolled": true
   },
   "outputs": [
    {
     "data": {
      "text/plain": [
       "['/Users/dong/Desktop/lwh/042018LWH.xlsx',\n",
       " '/Users/dong/Desktop/lwh/042017.xlsx',\n",
       " '/Users/dong/Desktop/lwh/032018LWH.xlsx',\n",
       " '/Users/dong/Desktop/lwh/022018.xlsx']"
      ]
     },
     "execution_count": 744,
     "metadata": {},
     "output_type": "execute_result"
    }
   ],
   "source": [
    "dirlist"
   ]
  },
  {
   "cell_type": "code",
   "execution_count": 745,
   "metadata": {},
   "outputs": [],
   "source": [
    "dflist = []\n",
    "for i in dirlist:\n",
    "    dflist.append(pd.read_excel(i))"
   ]
  },
  {
   "cell_type": "code",
   "execution_count": 746,
   "metadata": {},
   "outputs": [],
   "source": [
    "mydf = pd.concat(dflist)"
   ]
  },
  {
   "cell_type": "code",
   "execution_count": 747,
   "metadata": {},
   "outputs": [],
   "source": [
    "df = pd.ExcelWriter(r'mydf.xlsx', engine='xlsxwriter',options={'strings_to_urls': False})"
   ]
  },
  {
   "cell_type": "code",
   "execution_count": 748,
   "metadata": {},
   "outputs": [],
   "source": [
    "mydf.to_excel(df,index=None)"
   ]
  },
  {
   "cell_type": "code",
   "execution_count": 749,
   "metadata": {},
   "outputs": [],
   "source": [
    "pd.set_option('display.max_columns', None)\n",
    "#mydf"
   ]
  },
  {
   "cell_type": "code",
   "execution_count": 750,
   "metadata": {},
   "outputs": [],
   "source": [
    "df = mydf.sort_values(\"訂單日期\", ascending = True) #ascending=False 將序\n",
    "df.reset_index(inplace=True, drop=True) # rearrange index number "
   ]
  },
  {
   "cell_type": "code",
   "execution_count": 751,
   "metadata": {},
   "outputs": [],
   "source": [
    "dPick_up = df\n",
    "dPick_up['訂單日期'] = pd.to_datetime(dPick_up.訂單日期,format='%Y-%m') # 提取出時間信息\n",
    "dPick_up['month'] = dPick_up.訂單日期.values.astype('datetime64[M]')"
   ]
  },
  {
   "cell_type": "markdown",
   "metadata": {},
   "source": [
    "# Filter "
   ]
  },
  {
   "cell_type": "code",
   "execution_count": 752,
   "metadata": {},
   "outputs": [],
   "source": [
    "df_filter = df\n",
    "df_filter = df_filter.loc[df_filter[\"訂單狀態\"] != \"已取消\"]\n",
    "#df_filter = df_filter.loc[df_filter[\"送貨狀態\"] != \"已退貨\"]\n",
    "#df_filter = df_filter.loc[df_filter[\"送貨狀態\"] != \"退貨中\"]\n",
    "#df_filter = df_filter.loc[df_filter[\"串接物流貨態\"] != \"未執行\"]\n",
    "#df_filter = df_filter.loc[df_filter[\"付款狀態\"] != \"未付款\"]"
   ]
  },
  {
   "cell_type": "markdown",
   "metadata": {},
   "source": [
    "# Business Health"
   ]
  },
  {
   "cell_type": "code",
   "execution_count": 753,
   "metadata": {
    "scrolled": false
   },
   "outputs": [
    {
     "data": {
      "text/html": [
       "<div>\n",
       "<style scoped>\n",
       "    .dataframe tbody tr th:only-of-type {\n",
       "        vertical-align: middle;\n",
       "    }\n",
       "\n",
       "    .dataframe tbody tr th {\n",
       "        vertical-align: top;\n",
       "    }\n",
       "\n",
       "    .dataframe thead th {\n",
       "        text-align: right;\n",
       "    }\n",
       "</style>\n",
       "<table border=\"1\" class=\"dataframe\">\n",
       "  <thead>\n",
       "    <tr style=\"text-align: right;\">\n",
       "      <th>month</th>\n",
       "      <th>2017-04-01</th>\n",
       "      <th>2018-02-01</th>\n",
       "      <th>2018-03-01</th>\n",
       "      <th>2018-04-01</th>\n",
       "    </tr>\n",
       "  </thead>\n",
       "  <tbody>\n",
       "    <tr>\n",
       "      <th>Revenue</th>\n",
       "      <td>1995509.0</td>\n",
       "      <td>4486592.0</td>\n",
       "      <td>5506572.0</td>\n",
       "      <td>4850942.0</td>\n",
       "    </tr>\n",
       "    <tr>\n",
       "      <th>Order</th>\n",
       "      <td>1556</td>\n",
       "      <td>3848</td>\n",
       "      <td>4584</td>\n",
       "      <td>4186</td>\n",
       "    </tr>\n",
       "    <tr>\n",
       "      <th>AOV</th>\n",
       "      <td>1282</td>\n",
       "      <td>1166</td>\n",
       "      <td>1201</td>\n",
       "      <td>1159</td>\n",
       "    </tr>\n",
       "    <tr>\n",
       "      <th>Products sold</th>\n",
       "      <td>2256</td>\n",
       "      <td>8086</td>\n",
       "      <td>9534</td>\n",
       "      <td>8915</td>\n",
       "    </tr>\n",
       "    <tr>\n",
       "      <th>Products per order</th>\n",
       "      <td>1.4</td>\n",
       "      <td>2.1</td>\n",
       "      <td>2.1</td>\n",
       "      <td>2.1</td>\n",
       "    </tr>\n",
       "  </tbody>\n",
       "</table>\n",
       "</div>"
      ],
      "text/plain": [
       "month              2017-04-01 2018-02-01 2018-03-01 2018-04-01\n",
       "Revenue             1995509.0  4486592.0  5506572.0  4850942.0\n",
       "Order                    1556       3848       4584       4186\n",
       "AOV                      1282       1166       1201       1159\n",
       "Products sold            2256       8086       9534       8915\n",
       "Products per order        1.4        2.1        2.1        2.1"
      ]
     },
     "execution_count": 753,
     "metadata": {},
     "output_type": "execute_result"
    }
   ],
   "source": [
    "dB = df_filter\n",
    "dB['訂單日期'] = pd.to_datetime(dB.訂單日期,format='%Y-%m') # 提取出时间信息\n",
    "dB['month'] = dB.訂單日期.values.astype('datetime64[M]')\n",
    "dtest = dB\n",
    "dtest[\"month\"] = dtest[\"month\"].astype(str)\n",
    "Revenue = dtest.groupby('month').訂單合計.agg(['sum','count', 'mean'])\n",
    "Revenue = Revenue.rename(columns = {'sum':'Revenue',\"count\":\"Order\",\"mean\":\"AOV\"})\n",
    "Revenue[\"AOV\"] = Revenue.AOV.round(decimals = 0)\n",
    "Revenue[\"Revenue\"] = Revenue.Revenue.astype(str)\n",
    "Products_sold = dtest.groupby('month').數量.agg(['sum'])\n",
    "Revenue[\"AOV\"] = Revenue[\"AOV\"].astype(int)\n",
    "Products_sold = Products_sold.rename(columns = {'sum':'Products sold'})\n",
    "Business_Health = Revenue.join(Products_sold)\n",
    "Business_Health['Products per order'] = Business_Health['Products sold']/Business_Health['Order']\n",
    "Business_Health['Products per order']  = Business_Health['Products per order'] .round(decimals = 1)\n",
    "#Revenue[\"month\"] = Revenue[\"month\"].astype(str)\n",
    "#Business_Health = Business_Health.T\n",
    "Business_Health = Business_Health.T\n",
    "#row_month = Business_Health.month.sort_values().astype('str').unique()\n",
    "#Business_Health.rows = row_month\n",
    "Business_Health \n"
   ]
  },
  {
   "cell_type": "markdown",
   "metadata": {},
   "source": [
    "# Customer Profile"
   ]
  },
  {
   "cell_type": "code",
   "execution_count": 754,
   "metadata": {
    "scrolled": true
   },
   "outputs": [
    {
     "data": {
      "text/html": [
       "<div>\n",
       "<style scoped>\n",
       "    .dataframe tbody tr th:only-of-type {\n",
       "        vertical-align: middle;\n",
       "    }\n",
       "\n",
       "    .dataframe tbody tr th {\n",
       "        vertical-align: top;\n",
       "    }\n",
       "\n",
       "    .dataframe thead th {\n",
       "        text-align: right;\n",
       "    }\n",
       "</style>\n",
       "<table border=\"1\" class=\"dataframe\">\n",
       "  <thead>\n",
       "    <tr style=\"text-align: right;\">\n",
       "      <th></th>\n",
       "      <th>2017-04-01</th>\n",
       "      <th>2018-02-01</th>\n",
       "      <th>2018-03-01</th>\n",
       "      <th>2018-04-01</th>\n",
       "    </tr>\n",
       "  </thead>\n",
       "  <tbody>\n",
       "    <tr>\n",
       "      <th>Customers</th>\n",
       "      <td>1517.0</td>\n",
       "      <td>3727.0</td>\n",
       "      <td>4420.0</td>\n",
       "      <td>4010.0</td>\n",
       "    </tr>\n",
       "    <tr>\n",
       "      <th>% of repeat orders</th>\n",
       "      <td>2.3%</td>\n",
       "      <td>3.0%</td>\n",
       "      <td>3.4%</td>\n",
       "      <td>4.0%</td>\n",
       "    </tr>\n",
       "    <tr>\n",
       "      <th>customers bought once</th>\n",
       "      <td>1482.0</td>\n",
       "      <td>3616.0</td>\n",
       "      <td>4271.0</td>\n",
       "      <td>3851.0</td>\n",
       "    </tr>\n",
       "    <tr>\n",
       "      <th>customers bought more than once</th>\n",
       "      <td>35.0</td>\n",
       "      <td>111.0</td>\n",
       "      <td>149.0</td>\n",
       "      <td>159.0</td>\n",
       "    </tr>\n",
       "  </tbody>\n",
       "</table>\n",
       "</div>"
      ],
      "text/plain": [
       "                                2017-04-01 2018-02-01 2018-03-01 2018-04-01\n",
       "Customers                           1517.0     3727.0     4420.0     4010.0\n",
       "% of repeat orders                    2.3%       3.0%       3.4%       4.0%\n",
       "customers bought once               1482.0     3616.0     4271.0     3851.0\n",
       "customers bought more than once       35.0      111.0      149.0      159.0"
      ]
     },
     "execution_count": 754,
     "metadata": {},
     "output_type": "execute_result"
    }
   ],
   "source": [
    "Customer_amount = dtest.pivot_table(index='電郵',columns='month',values='訂單合計',aggfunc=\"count\").fillna(0)\n",
    "columns_month = dtest.month.sort_values().astype('str').unique()\n",
    "Customer_amount.columns = columns_month\n",
    "#Customer_amount.loc['customers']= Customer_amount.count()\n",
    "#Customer_amount.loc['Total Customer']= Pick_up_amount.apply(lambda x if x == 1 x.sum)\n",
    "#Customer_amount.applymap(lambda x: 1 if x > 1 else np.NaN)\n",
    "#Customer_amount.loc['Total Customer'] = Customer_amount.count()#applymap(lambda x: 1 if x > 1 else np.NaN)\n",
    "Customer_amount = Customer_amount.apply(lambda x : pd.value_counts(x))\n",
    "Customer_amount = Customer_amount.iloc[1:]#iloc 切片去掉0\n",
    "Customer_amount.loc['Customers']= Customer_amount.sum()\n",
    "Customer_amount.loc['Customers']= Customer_amount.loc['Customers'].astype(int)\n",
    "Customer_amount.loc['% of repeat orders'] = Customer_amount.iloc[0:].sum()\n",
    "Customer_amount.loc['customers bought once']= Customer_amount.iloc[0]\n",
    "Customer_amount.loc['customers bought more than once'] = Customer_amount.loc['Customers']-Customer_amount.loc['customers bought once']\n",
    "Customer_amount.loc['% of repeat orders'] = Customer_amount.loc['customers bought more than once']/Customer_amount.loc['Customers']\n",
    "Customer_amount.loc['% of repeat orders']= Customer_amount.loc['% of repeat orders']*100\n",
    "Customer_amount.loc['% of repeat orders'] = Customer_amount.loc['% of repeat orders'].round(decimals = 1)\n",
    "#Customer_amount.loc['% of repeat orders'] = Customer_amount.loc['% of repeat orders']+\"%\"\n",
    "Customer_amount = Customer_amount.iloc[-4:]\n",
    "Customer_amount.loc['Customers'] = Customer_amount.loc['Customers'].astype(str)\n",
    "Customer_amount.loc['customers bought once'] = Customer_amount.loc['customers bought once'].astype(str)\n",
    "Customer_amount.loc['customers bought more than once'] = Customer_amount.loc['customers bought more than once'].astype(str)\n",
    "Customer_amount.loc['% of repeat orders'] = Customer_amount.loc['% of repeat orders'].astype(str)\n",
    "Customer_amount.loc['% of repeat orders'] = Customer_amount.loc['% of repeat orders']+\"%\"\n",
    "Customer_amount\n"
   ]
  },
  {
   "cell_type": "markdown",
   "metadata": {},
   "source": [
    "# Pick up Analysis"
   ]
  },
  {
   "cell_type": "code",
   "execution_count": 755,
   "metadata": {},
   "outputs": [
    {
     "data": {
      "text/html": [
       "<div>\n",
       "<style scoped>\n",
       "    .dataframe tbody tr th:only-of-type {\n",
       "        vertical-align: middle;\n",
       "    }\n",
       "\n",
       "    .dataframe tbody tr th {\n",
       "        vertical-align: top;\n",
       "    }\n",
       "\n",
       "    .dataframe thead th {\n",
       "        text-align: right;\n",
       "    }\n",
       "</style>\n",
       "<table border=\"1\" class=\"dataframe\">\n",
       "  <thead>\n",
       "    <tr style=\"text-align: right;\">\n",
       "      <th></th>\n",
       "      <th>2017-04-01</th>\n",
       "      <th>2018-02-01</th>\n",
       "      <th>2018-03-01</th>\n",
       "      <th>2018-04-01</th>\n",
       "    </tr>\n",
       "    <tr>\n",
       "      <th>Pick up Analysis</th>\n",
       "      <th></th>\n",
       "      <th></th>\n",
       "      <th></th>\n",
       "      <th></th>\n",
       "    </tr>\n",
       "  </thead>\n",
       "  <tbody>\n",
       "    <tr>\n",
       "      <th>Total Pick up count</th>\n",
       "      <td>1532.0</td>\n",
       "      <td>3401.0</td>\n",
       "      <td>4061.0</td>\n",
       "      <td>3593.0</td>\n",
       "    </tr>\n",
       "    <tr>\n",
       "      <th>No pick up count</th>\n",
       "      <td>106.0</td>\n",
       "      <td>207.0</td>\n",
       "      <td>222.0</td>\n",
       "      <td>176.0</td>\n",
       "    </tr>\n",
       "    <tr>\n",
       "      <th>% of no pick up</th>\n",
       "      <td>6.9%</td>\n",
       "      <td>6.1%</td>\n",
       "      <td>5.5%</td>\n",
       "      <td>4.9%</td>\n",
       "    </tr>\n",
       "  </tbody>\n",
       "</table>\n",
       "</div>"
      ],
      "text/plain": [
       "                    2017-04-01 2018-02-01 2018-03-01 2018-04-01\n",
       "Pick up Analysis                                               \n",
       "Total Pick up count     1532.0     3401.0     4061.0     3593.0\n",
       "No pick up count         106.0      207.0      222.0      176.0\n",
       "% of no pick up           6.9%       6.1%       5.5%       4.9%"
      ]
     },
     "execution_count": 755,
     "metadata": {},
     "output_type": "execute_result"
    }
   ],
   "source": [
    "dPick_up\n",
    "dPick_up = dPick_up.loc[dPick_up[\"付款方式\"] == \"7-11取貨付款\"]\n",
    "dPick_up = dPick_up.rename(columns = {'送貨狀態':'Pick up Analysis'})\n",
    "Pick_up_amount = dPick_up.pivot_table(index='Pick up Analysis',columns='month',values='訂單合計',aggfunc=\"count\").fillna(0)\n",
    "columns_month = dPick_up.month.sort_values().astype('str').unique()\n",
    "Pick_up_amount.columns = columns_month\n",
    "Pick_up_amount#.sort_values(\"month\", ascending = True)\n",
    "Pick_up_amount.loc['Total Pick up count']= Pick_up_amount.sum()\n",
    "Pick_up_amount.loc['No pick up count'] = Pick_up_amount.loc['已退貨']+ Pick_up_amount.loc['退貨中']\n",
    "Pick_up_amount.loc['% of no pick up'] = Pick_up_amount.loc['No pick up count']/Pick_up_amount.loc['Total Pick up count']\n",
    "Pick_up_amount.loc['% of no pick up'] = Pick_up_amount.loc['% of no pick up'].round(decimals = 3)\n",
    "Pick_up_amount.loc['% of no pick up'] = Pick_up_amount.loc['% of no pick up']*100\n",
    "#Pick_up_amount.loc['% of no pick up'] = Pick_up_amount.loc['% of no pick up'].astype(str)\n",
    "#Pick_up_amount.loc['% of no pick up'] = Pick_up_amount.loc['% of no pick up']+\"%\"\n",
    "Pick_up_amount.loc['Total Pick up count'] = Pick_up_amount.loc['Total Pick up count'].astype(str)\n",
    "Pick_up_amount.loc['No pick up count'] = Pick_up_amount.loc['No pick up count'].astype(str)\n",
    "Pick_up_amount.loc['% of no pick up'] = Pick_up_amount.loc['% of no pick up'].astype(str)\n",
    "Pick_up_amount.loc['% of no pick up'] = Pick_up_amount.loc['% of no pick up']+\"%\"\n",
    "Pick_up_amount = Pick_up_amount[-3:]\n",
    "Pick_up_amount"
   ]
  },
  {
   "cell_type": "code",
   "execution_count": 756,
   "metadata": {
    "scrolled": true
   },
   "outputs": [],
   "source": [
    "dpick = df\n",
    "dpick['訂單日期'] = pd.to_datetime(dpick.訂單日期,format='%Y-%m') # 提取出时间信息\n",
    "dpick['month'] = dpick.訂單日期.values.astype('datetime64[M]')\n",
    "dpick = dpick.dropna(subset = [\"訂單合計\"])\n",
    "dpick['超取取貨時間']=pd.to_datetime(dpick['超取取貨時間']) \n",
    "dpick['超取到達時間']=pd.to_datetime(dpick['超取到達時間']) \n",
    "#['超取到達時間'] = pd.to_datetime(dy.超取到達時間,format='%Y-%m-%d') # 提取出时间信息\n",
    "#dy['arrival'] = dy.超取到達時間.values.astype('datetime64[D]')\n",
    "#dy['超取取貨時間'] = pd.to_datetime(dy.超取取貨時間,format='%Y-%m-%d') # 提取出时间信息\n",
    "#dy['pickup'] = dy.超取取貨時間.values.astype('datetime64[D]')\n",
    "dpick['pickupday'] = dpick['超取取貨時間']-dpick['超取到達時間']\n",
    "dpick = dpick.dropna(subset = [\"pickupday\"])\n",
    "dpick.pickupday = dpick.pickupday.astype(str)\n",
    "split = pd.DataFrame((x.split('d') for x in dpick['pickupday']),index=dpick.index,columns=['day','min'])\n",
    "dpick = pd.merge(dpick,split,right_index=True, left_index=True)\n",
    "dpick[\"month\"] = dpick[\"month\"].astype(str)\n",
    "dpick[\"day\"] = dpick[\"day\"].astype(int)\n",
    "days = dpick.groupby('month').day.agg(['mean'])\n",
    "days = days.rename(columns = {'mean':'Avg pick up day'})\n",
    "Avg_day = days.T"
   ]
  },
  {
   "cell_type": "code",
   "execution_count": 757,
   "metadata": {},
   "outputs": [],
   "source": [
    "Pick_up_overview = pd.concat([Pick_up_amount,Av_day]) "
   ]
  },
  {
   "cell_type": "code",
   "execution_count": 758,
   "metadata": {},
   "outputs": [
    {
     "data": {
      "text/html": [
       "<div>\n",
       "<style scoped>\n",
       "    .dataframe tbody tr th:only-of-type {\n",
       "        vertical-align: middle;\n",
       "    }\n",
       "\n",
       "    .dataframe tbody tr th {\n",
       "        vertical-align: top;\n",
       "    }\n",
       "\n",
       "    .dataframe thead th {\n",
       "        text-align: right;\n",
       "    }\n",
       "</style>\n",
       "<table border=\"1\" class=\"dataframe\">\n",
       "  <thead>\n",
       "    <tr style=\"text-align: right;\">\n",
       "      <th>month</th>\n",
       "      <th>2017-04-01</th>\n",
       "      <th>2018-02-01</th>\n",
       "      <th>2018-03-01</th>\n",
       "      <th>2018-04-01</th>\n",
       "    </tr>\n",
       "  </thead>\n",
       "  <tbody>\n",
       "    <tr>\n",
       "      <th>Revenue</th>\n",
       "      <td>1995509.0</td>\n",
       "      <td>4486592.0</td>\n",
       "      <td>5506572.0</td>\n",
       "      <td>4850942.0</td>\n",
       "    </tr>\n",
       "    <tr>\n",
       "      <th>Order</th>\n",
       "      <td>1556</td>\n",
       "      <td>3848</td>\n",
       "      <td>4584</td>\n",
       "      <td>4186</td>\n",
       "    </tr>\n",
       "    <tr>\n",
       "      <th>AOV</th>\n",
       "      <td>1282</td>\n",
       "      <td>1166</td>\n",
       "      <td>1201</td>\n",
       "      <td>1159</td>\n",
       "    </tr>\n",
       "    <tr>\n",
       "      <th>Products sold</th>\n",
       "      <td>2256</td>\n",
       "      <td>8086</td>\n",
       "      <td>9534</td>\n",
       "      <td>8915</td>\n",
       "    </tr>\n",
       "    <tr>\n",
       "      <th>Products per order</th>\n",
       "      <td>1.4</td>\n",
       "      <td>2.1</td>\n",
       "      <td>2.1</td>\n",
       "      <td>2.1</td>\n",
       "    </tr>\n",
       "    <tr>\n",
       "      <th>Customers</th>\n",
       "      <td>1517.0</td>\n",
       "      <td>3727.0</td>\n",
       "      <td>4420.0</td>\n",
       "      <td>4010.0</td>\n",
       "    </tr>\n",
       "    <tr>\n",
       "      <th>% of repeat orders</th>\n",
       "      <td>2.3%</td>\n",
       "      <td>3.0%</td>\n",
       "      <td>3.4%</td>\n",
       "      <td>4.0%</td>\n",
       "    </tr>\n",
       "    <tr>\n",
       "      <th>customers bought once</th>\n",
       "      <td>1482.0</td>\n",
       "      <td>3616.0</td>\n",
       "      <td>4271.0</td>\n",
       "      <td>3851.0</td>\n",
       "    </tr>\n",
       "    <tr>\n",
       "      <th>customers bought more than once</th>\n",
       "      <td>35.0</td>\n",
       "      <td>111.0</td>\n",
       "      <td>149.0</td>\n",
       "      <td>159.0</td>\n",
       "    </tr>\n",
       "    <tr>\n",
       "      <th>Total Pick up count</th>\n",
       "      <td>1532.0</td>\n",
       "      <td>3401.0</td>\n",
       "      <td>4061.0</td>\n",
       "      <td>3593.0</td>\n",
       "    </tr>\n",
       "    <tr>\n",
       "      <th>No pick up count</th>\n",
       "      <td>106.0</td>\n",
       "      <td>207.0</td>\n",
       "      <td>222.0</td>\n",
       "      <td>176.0</td>\n",
       "    </tr>\n",
       "    <tr>\n",
       "      <th>% of no pick up</th>\n",
       "      <td>6.9%</td>\n",
       "      <td>6.1%</td>\n",
       "      <td>5.5%</td>\n",
       "      <td>4.9%</td>\n",
       "    </tr>\n",
       "    <tr>\n",
       "      <th>Avg pick up day</th>\n",
       "      <td>NaN</td>\n",
       "      <td>1.3</td>\n",
       "      <td>1.3</td>\n",
       "      <td>1.4</td>\n",
       "    </tr>\n",
       "  </tbody>\n",
       "</table>\n",
       "</div>"
      ],
      "text/plain": [
       "month                           2017-04-01 2018-02-01 2018-03-01 2018-04-01\n",
       "Revenue                          1995509.0  4486592.0  5506572.0  4850942.0\n",
       "Order                                 1556       3848       4584       4186\n",
       "AOV                                   1282       1166       1201       1159\n",
       "Products sold                         2256       8086       9534       8915\n",
       "Products per order                     1.4        2.1        2.1        2.1\n",
       "Customers                           1517.0     3727.0     4420.0     4010.0\n",
       "% of repeat orders                    2.3%       3.0%       3.4%       4.0%\n",
       "customers bought once               1482.0     3616.0     4271.0     3851.0\n",
       "customers bought more than once       35.0      111.0      149.0      159.0\n",
       "Total Pick up count                 1532.0     3401.0     4061.0     3593.0\n",
       "No pick up count                     106.0      207.0      222.0      176.0\n",
       "% of no pick up                       6.9%       6.1%       5.5%       4.9%\n",
       "Avg pick up day                        NaN        1.3        1.3        1.4"
      ]
     },
     "execution_count": 758,
     "metadata": {},
     "output_type": "execute_result"
    }
   ],
   "source": [
    "pd.concat([Business_Health,Customer_amount,Pick_up_overview]) "
   ]
  },
  {
   "cell_type": "markdown",
   "metadata": {},
   "source": [
    "# Payment Overview"
   ]
  },
  {
   "cell_type": "code",
   "execution_count": 764,
   "metadata": {
    "scrolled": true
   },
   "outputs": [
    {
     "data": {
      "text/html": [
       "<div>\n",
       "<style scoped>\n",
       "    .dataframe tbody tr th:only-of-type {\n",
       "        vertical-align: middle;\n",
       "    }\n",
       "\n",
       "    .dataframe tbody tr th {\n",
       "        vertical-align: top;\n",
       "    }\n",
       "\n",
       "    .dataframe thead th {\n",
       "        text-align: right;\n",
       "    }\n",
       "</style>\n",
       "<table border=\"1\" class=\"dataframe\">\n",
       "  <thead>\n",
       "    <tr style=\"text-align: right;\">\n",
       "      <th></th>\n",
       "      <th>2017-04-01</th>\n",
       "      <th>2018-02-01</th>\n",
       "      <th>2018-03-01</th>\n",
       "      <th>2018-04-01</th>\n",
       "    </tr>\n",
       "    <tr>\n",
       "      <th>Payment</th>\n",
       "      <th></th>\n",
       "      <th></th>\n",
       "      <th></th>\n",
       "      <th></th>\n",
       "    </tr>\n",
       "  </thead>\n",
       "  <tbody>\n",
       "    <tr>\n",
       "      <th>7-11取貨付款</th>\n",
       "      <td>1380.0</td>\n",
       "      <td>3291.0</td>\n",
       "      <td>3964.0</td>\n",
       "      <td>3518.0</td>\n",
       "    </tr>\n",
       "    <tr>\n",
       "      <th>ATM櫃員機（經由綠界)</th>\n",
       "      <td>9.0</td>\n",
       "      <td>0.0</td>\n",
       "      <td>0.0</td>\n",
       "      <td>0.0</td>\n",
       "    </tr>\n",
       "    <tr>\n",
       "      <th>信用卡付款</th>\n",
       "      <td>0.0</td>\n",
       "      <td>461.0</td>\n",
       "      <td>527.0</td>\n",
       "      <td>560.0</td>\n",
       "    </tr>\n",
       "    <tr>\n",
       "      <th>信用卡（經由綠界)</th>\n",
       "      <td>130.0</td>\n",
       "      <td>0.0</td>\n",
       "      <td>0.0</td>\n",
       "      <td>0.0</td>\n",
       "    </tr>\n",
       "    <tr>\n",
       "      <th>宅配貨到付款</th>\n",
       "      <td>37.0</td>\n",
       "      <td>0.0</td>\n",
       "      <td>0.0</td>\n",
       "      <td>0.0</td>\n",
       "    </tr>\n",
       "    <tr>\n",
       "      <th>特殊付款方式</th>\n",
       "      <td>0.0</td>\n",
       "      <td>1.0</td>\n",
       "      <td>0.0</td>\n",
       "      <td>0.0</td>\n",
       "    </tr>\n",
       "    <tr>\n",
       "      <th>銀行轉帳／ATM</th>\n",
       "      <td>0.0</td>\n",
       "      <td>95.0</td>\n",
       "      <td>93.0</td>\n",
       "      <td>108.0</td>\n",
       "    </tr>\n",
       "  </tbody>\n",
       "</table>\n",
       "</div>"
      ],
      "text/plain": [
       "              2017-04-01  2018-02-01  2018-03-01  2018-04-01\n",
       "Payment                                                     \n",
       "7-11取貨付款          1380.0      3291.0      3964.0      3518.0\n",
       "ATM櫃員機（經由綠界)         9.0         0.0         0.0         0.0\n",
       "信用卡付款                0.0       461.0       527.0       560.0\n",
       "信用卡（經由綠界)          130.0         0.0         0.0         0.0\n",
       "宅配貨到付款              37.0         0.0         0.0         0.0\n",
       "特殊付款方式               0.0         1.0         0.0         0.0\n",
       "銀行轉帳／ATM             0.0        95.0        93.0       108.0"
      ]
     },
     "execution_count": 764,
     "metadata": {},
     "output_type": "execute_result"
    }
   ],
   "source": [
    "dtest = dB\n",
    "dpayment = dtest.dropna(subset = [\"訂單合計\"])\n",
    "dpayment = dpayment.rename(columns = {'付款方式':'Payment'})\n",
    "Payment_amount = dpayment.pivot_table(index='Payment',columns='month',values='訂單合計',aggfunc=\"count\").fillna(0)\n",
    "columns_month = dpayment.month.sort_values().astype('str').unique()\n",
    "Payment_amount.columns = columns_month\n",
    "#Payment_amount_percentage = Payment_amount.apply(lambda x : x/x.sum())\n",
    "#Payment_amount.loc[\"% of Payment\"] = \"\"\n",
    "Payment_amount\n",
    "#Payment_amount_percentage = Payment_amount.apply(lambda x : x/x.sum())\n",
    "#pd.concat([Payment_amount,Payment_amount_percentage])  #上下合併\n",
    "\n",
    "\n",
    "#pd.merge(Payment_amount,Payment_amount_percentage) \n",
    "#Payment_amount = Payment_amount.merge(Payment_amount_percentage)"
   ]
  },
  {
   "cell_type": "markdown",
   "metadata": {},
   "source": [
    "# Delivery Overview"
   ]
  },
  {
   "cell_type": "code",
   "execution_count": 765,
   "metadata": {},
   "outputs": [
    {
     "data": {
      "text/html": [
       "<div>\n",
       "<style scoped>\n",
       "    .dataframe tbody tr th:only-of-type {\n",
       "        vertical-align: middle;\n",
       "    }\n",
       "\n",
       "    .dataframe tbody tr th {\n",
       "        vertical-align: top;\n",
       "    }\n",
       "\n",
       "    .dataframe thead th {\n",
       "        text-align: right;\n",
       "    }\n",
       "</style>\n",
       "<table border=\"1\" class=\"dataframe\">\n",
       "  <thead>\n",
       "    <tr style=\"text-align: right;\">\n",
       "      <th></th>\n",
       "      <th>2017-04-01</th>\n",
       "      <th>2018-02-01</th>\n",
       "      <th>2018-03-01</th>\n",
       "      <th>2018-04-01</th>\n",
       "    </tr>\n",
       "    <tr>\n",
       "      <th>Delivery</th>\n",
       "      <th></th>\n",
       "      <th></th>\n",
       "      <th></th>\n",
       "      <th></th>\n",
       "    </tr>\n",
       "  </thead>\n",
       "  <tbody>\n",
       "    <tr>\n",
       "      <th>$180_宅配寄送</th>\n",
       "      <td>45.0</td>\n",
       "      <td>8.0</td>\n",
       "      <td>0.0</td>\n",
       "      <td>0.0</td>\n",
       "    </tr>\n",
       "    <tr>\n",
       "      <th>$180_宅配寄送_2月開始靠近年節，宅配將無法指定時間到貨喔!</th>\n",
       "      <td>0.0</td>\n",
       "      <td>195.0</td>\n",
       "      <td>0.0</td>\n",
       "      <td>0.0</td>\n",
       "    </tr>\n",
       "    <tr>\n",
       "      <th>$200_冷凍宅配寄送</th>\n",
       "      <td>0.0</td>\n",
       "      <td>0.0</td>\n",
       "      <td>1.0</td>\n",
       "      <td>0.0</td>\n",
       "    </tr>\n",
       "    <tr>\n",
       "      <th>$200_宅配寄送</th>\n",
       "      <td>0.0</td>\n",
       "      <td>17.0</td>\n",
       "      <td>177.0</td>\n",
       "      <td>140.0</td>\n",
       "    </tr>\n",
       "    <tr>\n",
       "      <th>$80_7-11 B2C 取貨不付款 ( 使用信用卡刷卡/銀行轉帳 )</th>\n",
       "      <td>131.0</td>\n",
       "      <td>337.0</td>\n",
       "      <td>440.0</td>\n",
       "      <td>527.0</td>\n",
       "    </tr>\n",
       "    <tr>\n",
       "      <th>$80_7-11取貨付款(若需使用信用卡請選擇下一個選項)</th>\n",
       "      <td>1380.0</td>\n",
       "      <td>3291.0</td>\n",
       "      <td>3964.0</td>\n",
       "      <td>3518.0</td>\n",
       "    </tr>\n",
       "    <tr>\n",
       "      <th>West Malaysia delivery</th>\n",
       "      <td>0.0</td>\n",
       "      <td>0.0</td>\n",
       "      <td>1.0</td>\n",
       "      <td>0.0</td>\n",
       "    </tr>\n",
       "    <tr>\n",
       "      <th>港澳順豐寄送_貨到付寄送運費(一公斤27港幣)</th>\n",
       "      <td>0.0</td>\n",
       "      <td>0.0</td>\n",
       "      <td>1.0</td>\n",
       "      <td>1.0</td>\n",
       "    </tr>\n",
       "  </tbody>\n",
       "</table>\n",
       "</div>"
      ],
      "text/plain": [
       "                                     2017-04-01  2018-02-01  2018-03-01  \\\n",
       "Delivery                                                                  \n",
       "$180_宅配寄送                                  45.0         8.0         0.0   \n",
       "$180_宅配寄送_2月開始靠近年節，宅配將無法指定時間到貨喔!            0.0       195.0         0.0   \n",
       "$200_冷凍宅配寄送                                 0.0         0.0         1.0   \n",
       "$200_宅配寄送                                   0.0        17.0       177.0   \n",
       "$80_7-11 B2C 取貨不付款 ( 使用信用卡刷卡/銀行轉帳 )       131.0       337.0       440.0   \n",
       "$80_7-11取貨付款(若需使用信用卡請選擇下一個選項)            1380.0      3291.0      3964.0   \n",
       "West Malaysia delivery                      0.0         0.0         1.0   \n",
       "港澳順豐寄送_貨到付寄送運費(一公斤27港幣)                     0.0         0.0         1.0   \n",
       "\n",
       "                                     2018-04-01  \n",
       "Delivery                                         \n",
       "$180_宅配寄送                                   0.0  \n",
       "$180_宅配寄送_2月開始靠近年節，宅配將無法指定時間到貨喔!            0.0  \n",
       "$200_冷凍宅配寄送                                 0.0  \n",
       "$200_宅配寄送                                 140.0  \n",
       "$80_7-11 B2C 取貨不付款 ( 使用信用卡刷卡/銀行轉帳 )       527.0  \n",
       "$80_7-11取貨付款(若需使用信用卡請選擇下一個選項)            3518.0  \n",
       "West Malaysia delivery                      0.0  \n",
       "港澳順豐寄送_貨到付寄送運費(一公斤27港幣)                     1.0  "
      ]
     },
     "execution_count": 765,
     "metadata": {},
     "output_type": "execute_result"
    }
   ],
   "source": [
    "dtest = dB\n",
    "delivery = dtest.dropna(subset = [\"訂單合計\"])\n",
    "delivery = delivery.rename(columns = {'送貨方式':'Delivery'})\n",
    "Delivery_amount = delivery.pivot_table(index='Delivery',columns='month',values='訂單合計',aggfunc=\"count\").fillna(0)\n",
    "columns_month = delivery.month.sort_values().astype('str').unique()\n",
    "Delivery_amount.columns = columns_month\n",
    "#Delivery_amount = Delivery_amount.nlargest(5,\"2018-03-01\")\n",
    "Delivery_amount"
   ]
  },
  {
   "cell_type": "code",
   "execution_count": 766,
   "metadata": {},
   "outputs": [],
   "source": [
    "#Delivery_amount.apply(lambda x : x/x.sum())"
   ]
  },
  {
   "cell_type": "markdown",
   "metadata": {},
   "source": [
    "# Products Overview"
   ]
  },
  {
   "cell_type": "code",
   "execution_count": 762,
   "metadata": {},
   "outputs": [
    {
     "data": {
      "text/html": [
       "<div>\n",
       "<style scoped>\n",
       "    .dataframe tbody tr th:only-of-type {\n",
       "        vertical-align: middle;\n",
       "    }\n",
       "\n",
       "    .dataframe tbody tr th {\n",
       "        vertical-align: top;\n",
       "    }\n",
       "\n",
       "    .dataframe thead th {\n",
       "        text-align: right;\n",
       "    }\n",
       "</style>\n",
       "<table border=\"1\" class=\"dataframe\">\n",
       "  <thead>\n",
       "    <tr style=\"text-align: right;\">\n",
       "      <th></th>\n",
       "      <th>2017-04-01</th>\n",
       "      <th>2018-02-01</th>\n",
       "      <th>2018-03-01</th>\n",
       "      <th>2018-04-01</th>\n",
       "    </tr>\n",
       "    <tr>\n",
       "      <th>商品名稱</th>\n",
       "      <th></th>\n",
       "      <th></th>\n",
       "      <th></th>\n",
       "      <th></th>\n",
       "    </tr>\n",
       "  </thead>\n",
       "  <tbody>\n",
       "    <tr>\n",
       "      <th>綠意盎然純棉床包組 (植物)</th>\n",
       "      <td>0.0</td>\n",
       "      <td>119896.0</td>\n",
       "      <td>242032.0</td>\n",
       "      <td>94000.0</td>\n",
       "    </tr>\n",
       "    <tr>\n",
       "      <th>刺子繡水洗棉床包組</th>\n",
       "      <td>0.0</td>\n",
       "      <td>79426.0</td>\n",
       "      <td>185866.0</td>\n",
       "      <td>83854.0</td>\n",
       "    </tr>\n",
       "    <tr>\n",
       "      <th>英式格紋・ 床包組 (全藍)</th>\n",
       "      <td>30024.0</td>\n",
       "      <td>182048.0</td>\n",
       "      <td>140110.0</td>\n",
       "      <td>77678.0</td>\n",
       "    </tr>\n",
       "    <tr>\n",
       "      <th>地質系・掛毯</th>\n",
       "      <td>0.0</td>\n",
       "      <td>144380.0</td>\n",
       "      <td>126712.0</td>\n",
       "      <td>49460.0</td>\n",
       "    </tr>\n",
       "    <tr>\n",
       "      <th>童話化妝品收納包</th>\n",
       "      <td>0.0</td>\n",
       "      <td>24875.0</td>\n",
       "      <td>104558.0</td>\n",
       "      <td>26715.0</td>\n",
       "    </tr>\n",
       "    <tr>\n",
       "      <th>迷走叢林純棉床包組</th>\n",
       "      <td>0.0</td>\n",
       "      <td>0.0</td>\n",
       "      <td>96012.0</td>\n",
       "      <td>85742.0</td>\n",
       "    </tr>\n",
       "    <tr>\n",
       "      <th>小清新水洗棉・涼被</th>\n",
       "      <td>0.0</td>\n",
       "      <td>0.0</td>\n",
       "      <td>83600.0</td>\n",
       "      <td>149650.0</td>\n",
       "    </tr>\n",
       "    <tr>\n",
       "      <th>沐浴晨光純棉床包組</th>\n",
       "      <td>0.0</td>\n",
       "      <td>0.0</td>\n",
       "      <td>81654.0</td>\n",
       "      <td>22034.0</td>\n",
       "    </tr>\n",
       "    <tr>\n",
       "      <th>細條紋天竺棉床包組</th>\n",
       "      <td>0.0</td>\n",
       "      <td>61454.0</td>\n",
       "      <td>80854.0</td>\n",
       "      <td>45756.0</td>\n",
       "    </tr>\n",
       "    <tr>\n",
       "      <th>北歐風・純棉床包組</th>\n",
       "      <td>0.0</td>\n",
       "      <td>69748.0</td>\n",
       "      <td>77314.0</td>\n",
       "      <td>50820.0</td>\n",
       "    </tr>\n",
       "  </tbody>\n",
       "</table>\n",
       "</div>"
      ],
      "text/plain": [
       "                2017-04-01  2018-02-01  2018-03-01  2018-04-01\n",
       "商品名稱                                                          \n",
       "綠意盎然純棉床包組 (植物)         0.0    119896.0    242032.0     94000.0\n",
       "刺子繡水洗棉床包組              0.0     79426.0    185866.0     83854.0\n",
       "英式格紋・ 床包組 (全藍)     30024.0    182048.0    140110.0     77678.0\n",
       "地質系・掛毯                 0.0    144380.0    126712.0     49460.0\n",
       "童話化妝品收納包               0.0     24875.0    104558.0     26715.0\n",
       "迷走叢林純棉床包組              0.0         0.0     96012.0     85742.0\n",
       "小清新水洗棉・涼被              0.0         0.0     83600.0    149650.0\n",
       "沐浴晨光純棉床包組              0.0         0.0     81654.0     22034.0\n",
       "細條紋天竺棉床包組              0.0     61454.0     80854.0     45756.0\n",
       "北歐風・純棉床包組              0.0     69748.0     77314.0     50820.0"
      ]
     },
     "execution_count": 762,
     "metadata": {},
     "output_type": "execute_result"
    }
   ],
   "source": [
    "Products_amount = dtest.pivot_table(index='商品名稱',columns='month',values=\"商品特價\",aggfunc=\"sum\").fillna(0)\n",
    "columns_month = dtest.month.sort_values().astype('str').unique()\n",
    "Products_amount.columns = columns_month\n",
    "Products_amount.nlargest(10,\"2018-03-01\")"
   ]
  },
  {
   "cell_type": "code",
   "execution_count": 763,
   "metadata": {},
   "outputs": [],
   "source": [
    "#Products_amount = dtest.groupby('m').數量.agg(['sum'])"
   ]
  },
  {
   "cell_type": "code",
   "execution_count": null,
   "metadata": {},
   "outputs": [],
   "source": []
  },
  {
   "cell_type": "code",
   "execution_count": null,
   "metadata": {},
   "outputs": [],
   "source": []
  },
  {
   "cell_type": "code",
   "execution_count": null,
   "metadata": {},
   "outputs": [],
   "source": []
  },
  {
   "cell_type": "code",
   "execution_count": null,
   "metadata": {},
   "outputs": [],
   "source": []
  },
  {
   "cell_type": "code",
   "execution_count": null,
   "metadata": {},
   "outputs": [],
   "source": []
  },
  {
   "cell_type": "code",
   "execution_count": null,
   "metadata": {},
   "outputs": [],
   "source": []
  },
  {
   "cell_type": "code",
   "execution_count": null,
   "metadata": {},
   "outputs": [],
   "source": []
  },
  {
   "cell_type": "code",
   "execution_count": null,
   "metadata": {},
   "outputs": [],
   "source": []
  },
  {
   "cell_type": "code",
   "execution_count": null,
   "metadata": {},
   "outputs": [],
   "source": []
  },
  {
   "cell_type": "code",
   "execution_count": null,
   "metadata": {},
   "outputs": [],
   "source": []
  },
  {
   "cell_type": "code",
   "execution_count": null,
   "metadata": {},
   "outputs": [],
   "source": []
  },
  {
   "cell_type": "code",
   "execution_count": null,
   "metadata": {},
   "outputs": [],
   "source": []
  },
  {
   "cell_type": "code",
   "execution_count": null,
   "metadata": {},
   "outputs": [],
   "source": []
  },
  {
   "cell_type": "code",
   "execution_count": null,
   "metadata": {},
   "outputs": [],
   "source": []
  },
  {
   "cell_type": "code",
   "execution_count": null,
   "metadata": {},
   "outputs": [],
   "source": []
  },
  {
   "cell_type": "code",
   "execution_count": null,
   "metadata": {},
   "outputs": [],
   "source": []
  },
  {
   "cell_type": "code",
   "execution_count": null,
   "metadata": {},
   "outputs": [],
   "source": []
  },
  {
   "cell_type": "code",
   "execution_count": null,
   "metadata": {},
   "outputs": [],
   "source": []
  },
  {
   "cell_type": "code",
   "execution_count": null,
   "metadata": {},
   "outputs": [],
   "source": []
  },
  {
   "cell_type": "code",
   "execution_count": null,
   "metadata": {},
   "outputs": [],
   "source": []
  },
  {
   "cell_type": "code",
   "execution_count": null,
   "metadata": {},
   "outputs": [],
   "source": []
  },
  {
   "cell_type": "code",
   "execution_count": null,
   "metadata": {},
   "outputs": [],
   "source": []
  },
  {
   "cell_type": "code",
   "execution_count": null,
   "metadata": {},
   "outputs": [],
   "source": []
  },
  {
   "cell_type": "code",
   "execution_count": null,
   "metadata": {},
   "outputs": [],
   "source": []
  },
  {
   "cell_type": "code",
   "execution_count": null,
   "metadata": {},
   "outputs": [],
   "source": []
  },
  {
   "cell_type": "code",
   "execution_count": null,
   "metadata": {},
   "outputs": [],
   "source": []
  },
  {
   "cell_type": "code",
   "execution_count": null,
   "metadata": {},
   "outputs": [],
   "source": []
  },
  {
   "cell_type": "code",
   "execution_count": null,
   "metadata": {},
   "outputs": [],
   "source": []
  },
  {
   "cell_type": "code",
   "execution_count": null,
   "metadata": {},
   "outputs": [],
   "source": []
  },
  {
   "cell_type": "code",
   "execution_count": null,
   "metadata": {},
   "outputs": [],
   "source": []
  },
  {
   "cell_type": "code",
   "execution_count": null,
   "metadata": {},
   "outputs": [],
   "source": []
  }
 ],
 "metadata": {
  "kernelspec": {
   "display_name": "Python 3",
   "language": "python",
   "name": "python3"
  },
  "language_info": {
   "codemirror_mode": {
    "name": "ipython",
    "version": 3
   },
   "file_extension": ".py",
   "mimetype": "text/x-python",
   "name": "python",
   "nbconvert_exporter": "python",
   "pygments_lexer": "ipython3",
   "version": "3.6.4"
  }
 },
 "nbformat": 4,
 "nbformat_minor": 2
}
